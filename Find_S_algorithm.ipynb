{
  "cells": [
    {
      "cell_type": "code",
      "execution_count": 1,
      "metadata": {
        "colab": {
          "base_uri": "https://localhost:8080/"
        },
        "id": "GMBgUTAzmOST",
        "outputId": "45451c12-831e-4118-807c-c6cfa7af91bf"
      },
      "outputs": [
        {
          "name": "stdout",
          "output_type": "stream",
          "text": [
            "Most specific hypothesis: ['Sunny', 'Warm', 'Normal', 'Strong', 'Warm', 'Same']\n"
          ]
        },
        {
          "name": "stderr",
          "output_type": "stream",
          "text": [
            "C:\\Users\\siris\\AppData\\Local\\Temp\\ipykernel_10308\\1977617140.py:14: FutureWarning: Series.__getitem__ treating keys as positions is deprecated. In a future version, integer keys will always be treated as labels (consistent with DataFrame behavior). To access a value by position, use `ser.iloc[pos]`\n",
            "  if specific_hypothesis[i] != row[i]:\n"
          ]
        }
      ],
      "source": [
        "# Find s algorithm\n",
        "import pandas as pd\n",
        "\n",
        "def find_s(training_data):\n",
        "  # Get the indices of positive examples\n",
        "  positive_examples = training_data[training_data.iloc[:, -1] == 'Yes']\n",
        "\n",
        "  # Initialize the most specific hypothesis with the first positive example\n",
        "  specific_hypothesis = positive_examples.iloc[0, :-1].tolist()\n",
        "\n",
        "  # Iterate over the remaining positive examples\n",
        "  for index, row in positive_examples.iterrows():\n",
        "    for i in range(len(specific_hypothesis)):\n",
        "      if specific_hypothesis[i] != row[i]:\n",
        "        specific_hypothesis[i] = specific_hypothesis[i] # Keep the existing specific value\n",
        "\n",
        "  return specific_hypothesis\n",
        "\n",
        "# Example usage (same as before)\n",
        "data = {'Sky': ['Sunny', 'Sunny', 'Rainy', 'Sunny'],\n",
        "        'AirTemp': ['Warm', 'Warm', 'Cold', 'Warm'],\n",
        "        'Humidity': ['Normal', 'High', 'High', 'High'],\n",
        "        'Wind': ['Strong', 'Strong', 'Strong', 'Weak'],\n",
        "        'Water': ['Warm', 'Warm', 'Warm', 'Cool'],\n",
        "        'Forecast': ['Same', 'Same', 'Change', 'Change'],\n",
        "        'EnjoySport': ['Yes', 'Yes', 'No', 'Yes']}\n",
        "df = pd.DataFrame(data)\n",
        "\n",
        "specific_hypothesis = find_s(df)\n",
        "print(f\"Most specific hypothesis: {specific_hypothesis}\")"
      ]
    },
    {
      "cell_type": "code",
      "execution_count": null,
      "metadata": {},
      "outputs": [],
      "source": []
    }
  ],
  "metadata": {
    "colab": {
      "provenance": [],
      "toc_visible": true
    },
    "kernelspec": {
      "display_name": "base",
      "language": "python",
      "name": "python3"
    },
    "language_info": {
      "codemirror_mode": {
        "name": "ipython",
        "version": 3
      },
      "file_extension": ".py",
      "mimetype": "text/x-python",
      "name": "python",
      "nbconvert_exporter": "python",
      "pygments_lexer": "ipython3",
      "version": "3.11.7"
    }
  },
  "nbformat": 4,
  "nbformat_minor": 0
}
